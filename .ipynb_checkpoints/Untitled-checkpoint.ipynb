{
 "cells": [
  {
   "cell_type": "code",
   "execution_count": 2,
   "metadata": {},
   "outputs": [],
   "source": [
    "import pandas as pd\n"
   ]
  },
  {
   "cell_type": "code",
   "execution_count": 11,
   "metadata": {
    "scrolled": false
   },
   "outputs": [
    {
     "data": {
      "text/html": [
       "<div>\n",
       "<style scoped>\n",
       "    .dataframe tbody tr th:only-of-type {\n",
       "        vertical-align: middle;\n",
       "    }\n",
       "\n",
       "    .dataframe tbody tr th {\n",
       "        vertical-align: top;\n",
       "    }\n",
       "\n",
       "    .dataframe thead th {\n",
       "        text-align: right;\n",
       "    }\n",
       "</style>\n",
       "<table border=\"1\" class=\"dataframe\">\n",
       "  <thead>\n",
       "    <tr style=\"text-align: right;\">\n",
       "      <th></th>\n",
       "      <th>index</th>\n",
       "      <th>TITLE</th>\n",
       "      <th>BRAND</th>\n",
       "      <th>SEASON</th>\n",
       "      <th>SEX</th>\n",
       "      <th>POPULARITY</th>\n",
       "      <th>BUCKET</th>\n",
       "      <th>TOTAL_SELL</th>\n",
       "      <th>LIKE_</th>\n",
       "      <th>REVIEW</th>\n",
       "      <th>SATISFACTION</th>\n",
       "      <th>DELIVERY_DATE</th>\n",
       "      <th>PRICE</th>\n",
       "      <th>SALE</th>\n",
       "      <th>CATEGORY_</th>\n",
       "      <th>IMG_URL</th>\n",
       "    </tr>\n",
       "  </thead>\n",
       "  <tbody>\n",
       "    <tr>\n",
       "      <th>1937</th>\n",
       "      <td>1937</td>\n",
       "      <td>[세트] 하프 폴라 니트 티셔츠|[SET] Half Pola Knit T-Shirt</td>\n",
       "      <td>ESN</td>\n",
       "      <td>NaN</td>\n",
       "      <td>남</td>\n",
       "      <td>368284.0</td>\n",
       "      <td>38150.0</td>\n",
       "      <td>72214.0</td>\n",
       "      <td>23545.0</td>\n",
       "      <td>27868.0</td>\n",
       "      <td>92.0</td>\n",
       "      <td>2.0</td>\n",
       "      <td>32760.0</td>\n",
       "      <td>58.0</td>\n",
       "      <td>니트/스웨터/카디건</td>\n",
       "      <td>https://image.msscdn.net/images/goods_img/2017...</td>\n",
       "    </tr>\n",
       "    <tr>\n",
       "      <th>3189</th>\n",
       "      <td>3189</td>\n",
       "      <td>[세트] 하프 폴라 니트 티셔츠|[SET] Half Pola Knit T-Shirt</td>\n",
       "      <td>ESN</td>\n",
       "      <td>NaN</td>\n",
       "      <td>남</td>\n",
       "      <td>367050.0</td>\n",
       "      <td>38184.0</td>\n",
       "      <td>72214.0</td>\n",
       "      <td>23556.0</td>\n",
       "      <td>27892.0</td>\n",
       "      <td>92.0</td>\n",
       "      <td>2.0</td>\n",
       "      <td>32760.0</td>\n",
       "      <td>58.0</td>\n",
       "      <td>니트/스웨터/카디건</td>\n",
       "      <td>https://image.msscdn.net/images/goods_img/2017...</td>\n",
       "    </tr>\n",
       "    <tr>\n",
       "      <th>7</th>\n",
       "      <td>7</td>\n",
       "      <td>[세트] 하프 폴라 니트 티셔츠|[SET] Half Pola Knit T-Shirt</td>\n",
       "      <td>ESN</td>\n",
       "      <td>NaN</td>\n",
       "      <td>남</td>\n",
       "      <td>368097.0</td>\n",
       "      <td>38074.0</td>\n",
       "      <td>71638.0</td>\n",
       "      <td>23459.0</td>\n",
       "      <td>27760.0</td>\n",
       "      <td>92.0</td>\n",
       "      <td>2.0</td>\n",
       "      <td>32760.0</td>\n",
       "      <td>58.0</td>\n",
       "      <td>니트/스웨터/카디건</td>\n",
       "      <td>https://image.msscdn.net/images/goods_img/2017...</td>\n",
       "    </tr>\n",
       "  </tbody>\n",
       "</table>\n",
       "</div>"
      ],
      "text/plain": [
       "      index                                           TITLE BRAND SEASON SEX  \\\n",
       "1937   1937  [세트] 하프 폴라 니트 티셔츠|[SET] Half Pola Knit T-Shirt   ESN    NaN   남   \n",
       "3189   3189  [세트] 하프 폴라 니트 티셔츠|[SET] Half Pola Knit T-Shirt   ESN    NaN   남   \n",
       "7         7  [세트] 하프 폴라 니트 티셔츠|[SET] Half Pola Knit T-Shirt   ESN    NaN   남   \n",
       "\n",
       "      POPULARITY   BUCKET  TOTAL_SELL    LIKE_   REVIEW  SATISFACTION  \\\n",
       "1937    368284.0  38150.0     72214.0  23545.0  27868.0          92.0   \n",
       "3189    367050.0  38184.0     72214.0  23556.0  27892.0          92.0   \n",
       "7       368097.0  38074.0     71638.0  23459.0  27760.0          92.0   \n",
       "\n",
       "      DELIVERY_DATE    PRICE  SALE   CATEGORY_  \\\n",
       "1937            2.0  32760.0  58.0  니트/스웨터/카디건   \n",
       "3189            2.0  32760.0  58.0  니트/스웨터/카디건   \n",
       "7               2.0  32760.0  58.0  니트/스웨터/카디건   \n",
       "\n",
       "                                                IMG_URL  \n",
       "1937  https://image.msscdn.net/images/goods_img/2017...  \n",
       "3189  https://image.msscdn.net/images/goods_img/2017...  \n",
       "7     https://image.msscdn.net/images/goods_img/2017...  "
      ]
     },
     "execution_count": 11,
     "metadata": {},
     "output_type": "execute_result"
    }
   ],
   "source": [
    "pf = pd.read_csv(\"musinsa_final.csv\")\n",
    "pf = pf.sort_values(\"TOTAL_SELL\", ascending=False)\n",
    "pf.head(3)"
   ]
  },
  {
   "cell_type": "code",
   "execution_count": 16,
   "metadata": {},
   "outputs": [
    {
     "ename": "NameError",
     "evalue": "name 'df' is not defined",
     "output_type": "error",
     "traceback": [
      "\u001b[1;31m---------------------------------------------------------------------------\u001b[0m",
      "\u001b[1;31mNameError\u001b[0m                                 Traceback (most recent call last)",
      "\u001b[1;32m<ipython-input-16-9e112543b788>\u001b[0m in \u001b[0;36m<module>\u001b[1;34m\u001b[0m\n\u001b[1;32m----> 1\u001b[1;33m \u001b[0mlen\u001b[0m\u001b[1;33m(\u001b[0m\u001b[0mdf\u001b[0m\u001b[1;33m)\u001b[0m\u001b[1;33m\u001b[0m\u001b[1;33m\u001b[0m\u001b[0m\n\u001b[0m",
      "\u001b[1;31mNameError\u001b[0m: name 'df' is not defined"
     ]
    }
   ],
   "source": [
    "len(pf)"
   ]
  }
 ],
 "metadata": {
  "kernelspec": {
   "display_name": "Python 3",
   "language": "python",
   "name": "python3"
  },
  "language_info": {
   "codemirror_mode": {
    "name": "ipython",
    "version": 3
   },
   "file_extension": ".py",
   "mimetype": "text/x-python",
   "name": "python",
   "nbconvert_exporter": "python",
   "pygments_lexer": "ipython3",
   "version": "3.7.3"
  }
 },
 "nbformat": 4,
 "nbformat_minor": 2
}
